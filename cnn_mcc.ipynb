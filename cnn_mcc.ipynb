{
 "cells": [
  {
   "cell_type": "code",
   "execution_count": 1,
   "metadata": {},
   "outputs": [],
   "source": [
    "import os\n",
    "os.environ['KMP_DUPLICATE_LIB_OK']='True'"
   ]
  },
  {
   "cell_type": "code",
   "execution_count": 2,
   "metadata": {},
   "outputs": [],
   "source": [
    "from fashion_data_module import FashionDataModule \n",
    "import wandb\n",
    "import time\n",
    "import torch\n",
    "import torch.nn as nn\n",
    "import torch.nn.functional as F\n",
    "import torchmetrics.functional as tf"
   ]
  },
  {
   "cell_type": "code",
   "execution_count": 3,
   "metadata": {},
   "outputs": [
    {
     "name": "stdout",
     "output_type": "stream",
     "text": [
      "Using PyTorch version: 2.1.1+cu118  Device: cuda\n"
     ]
    }
   ],
   "source": [
    "if torch.cuda.is_available():\n",
    "    DEVICE = torch.device('cuda')\n",
    "else:\n",
    "    DEVICE = torch.device('cpu')\n",
    "print('Using PyTorch version:', torch.__version__, ' Device:', DEVICE)"
   ]
  },
  {
   "cell_type": "code",
   "execution_count": 4,
   "metadata": {},
   "outputs": [
    {
     "name": "stderr",
     "output_type": "stream",
     "text": [
      "Failed to detect the name of this notebook, you can set it manually with the WANDB_NOTEBOOK_NAME environment variable to enable code saving.\n",
      "\u001b[34m\u001b[1mwandb\u001b[0m: Currently logged in as: \u001b[33mmongcha33\u001b[0m (\u001b[33muos_seorang\u001b[0m). Use \u001b[1m`wandb login --relogin`\u001b[0m to force relogin\n"
     ]
    },
    {
     "data": {
      "text/html": [
       "Tracking run with wandb version 0.16.1"
      ],
      "text/plain": [
       "<IPython.core.display.HTML object>"
      ]
     },
     "metadata": {},
     "output_type": "display_data"
    },
    {
     "data": {
      "text/html": [
       "Run data is saved locally in <code>c:\\Users\\ksrks\\OneDrive - UOS\\문서 - 인공지능 프로젝트\\MultiClassCNN_kym\\wandb\\run-20231211_194315-qong4pqj</code>"
      ],
      "text/plain": [
       "<IPython.core.display.HTML object>"
      ]
     },
     "metadata": {},
     "output_type": "display_data"
    },
    {
     "data": {
      "text/html": [
       "Syncing run <strong><a href='https://wandb.ai/uos_seorang/temp/runs/qong4pqj' target=\"_blank\">seorang_resnet</a></strong> to <a href='https://wandb.ai/uos_seorang/temp' target=\"_blank\">Weights & Biases</a> (<a href='https://wandb.me/run' target=\"_blank\">docs</a>)<br/>"
      ],
      "text/plain": [
       "<IPython.core.display.HTML object>"
      ]
     },
     "metadata": {},
     "output_type": "display_data"
    },
    {
     "data": {
      "text/html": [
       " View project at <a href='https://wandb.ai/uos_seorang/temp' target=\"_blank\">https://wandb.ai/uos_seorang/temp</a>"
      ],
      "text/plain": [
       "<IPython.core.display.HTML object>"
      ]
     },
     "metadata": {},
     "output_type": "display_data"
    },
    {
     "data": {
      "text/html": [
       " View run at <a href='https://wandb.ai/uos_seorang/temp/runs/qong4pqj' target=\"_blank\">https://wandb.ai/uos_seorang/temp/runs/qong4pqj</a>"
      ],
      "text/plain": [
       "<IPython.core.display.HTML object>"
      ]
     },
     "metadata": {},
     "output_type": "display_data"
    },
    {
     "name": "stderr",
     "output_type": "stream",
     "text": [
      "\u001b[34m\u001b[1mwandb\u001b[0m: \u001b[33mWARNING\u001b[0m Calling wandb.run.save without any arguments is deprecated.Changes to attributes are automatically persisted.\n"
     ]
    }
   ],
   "source": [
    "param_dict = {\n",
    "    \"conv_out_dim\":512,\n",
    "    \"hidden_dim\":256, \n",
    "    \"batch_size\":32,\n",
    "    \"image_dim\":224, \n",
    "    \"learning_rate\":0.0001,\n",
    "    \"momentum\":0.9,\n",
    "    \"weight_decay\":0.01, \n",
    "    \"n_classes\":5,\n",
    "    \"thresh\":0.5,\n",
    "    \"use_cutmix\":True,\n",
    "    \"use_pos_encoding\":False,\n",
    "    \"epochs\":30\n",
    "}\n",
    "\n",
    "wandb.init(project='temp',name='seorang_resnet')\n",
    "wandb.run.save()\n",
    "wandb.config.update(param_dict)"
   ]
  },
  {
   "cell_type": "code",
   "execution_count": 5,
   "metadata": {},
   "outputs": [
    {
     "name": "stdout",
     "output_type": "stream",
     "text": [
      "<fashion_data_module.FashionDataModule object at 0x0000024586C7F880>\n"
     ]
    }
   ],
   "source": [
    "img_data_dir = \"C:/Users/ksrks/OneDrive - UOS/문서 - 인공지능 프로젝트/fashion_dataset_v2/\"\n",
    "\n",
    "# FashionDataModule 사용\n",
    "coco = FashionDataModule(\n",
    "    img_data_dir,\n",
    "    img_size=param_dict[\"image_dim\"],\n",
    "    batch_size=param_dict[\"batch_size\"],\n",
    "    use_cutmix=param_dict[\"use_cutmix\"],\n",
    "    cutmix_alpha=1.0)\n",
    "\n",
    "coco.setup() # Creates train, validation, test datasets\n",
    "param_dict[\"data\"] = coco\n",
    "\n",
    "train_loader = coco.train_dataloader() \n",
    "test_loader = coco.test_dataloader()\n",
    "val_loader = coco.val_dataloader() \n",
    "\n",
    "print(param_dict[\"data\"]) "
   ]
  },
  {
   "cell_type": "code",
   "execution_count": 6,
   "metadata": {},
   "outputs": [],
   "source": [
    "# CNN 정의[1] \n",
    "class CNN(nn.Module):\n",
    "    def __init__(self):\n",
    "        super(CNN, self).__init__()\n",
    "        self.conv1 = nn.Conv2d(in_channels=3, out_channels=8, kernel_size=3, padding=1)\n",
    "        self.bn1 = nn.BatchNorm2d(8)\n",
    "        self.conv2 = nn.Conv2d(in_channels=8, out_channels=16, kernel_size=3, padding=1)\n",
    "        self.bn2 = nn.BatchNorm2d(16)\n",
    "        self.conv3 = nn.Conv2d(in_channels=16, out_channels=32, kernel_size=3, padding=1)\n",
    "        self.bn3 = nn.BatchNorm2d(32)\n",
    "        self.pool = nn.MaxPool2d(kernel_size=2, stride=2)\n",
    "        self.fc1 = nn.Linear(32 * 28 * 28, 64)\n",
    "        self.fc2 = nn.Linear(64, 32)\n",
    "        self.fc3 = nn.Linear(32, 5)\n",
    "        self.dropout = nn.Dropout(0.5)  \n",
    "\n",
    "    def forward(self, x):\n",
    "        x = self.conv1(x)\n",
    "        x = self.bn1(x)\n",
    "        x = F.relu(x)\n",
    "        x = self.pool(x)\n",
    "        x = self.conv2(x)\n",
    "        x = self.bn2(x)\n",
    "        x = F.relu(x)\n",
    "        x = self.pool(x)\n",
    "        x = self.conv3(x)\n",
    "        x = self.bn3(x)\n",
    "        x = F.relu(x)\n",
    "        x = self.pool(x)\n",
    "\n",
    "        x = x.view(-1, 32 * 28 * 28)\n",
    "        x = self.fc1(x)\n",
    "        x = F.relu(x)\n",
    "        x = self.dropout(x) \n",
    "        x = self.fc2(x)\n",
    "        x = F.relu(x)\n",
    "        x = self.dropout(x)  \n",
    "        x = self.fc3(x)\n",
    "        x = F.log_softmax(x) \n",
    "\n",
    "        return x"
   ]
  },
  {
   "cell_type": "code",
   "execution_count": 7,
   "metadata": {},
   "outputs": [
    {
     "name": "stdout",
     "output_type": "stream",
     "text": [
      "CNN(\n",
      "  (conv1): Conv2d(3, 8, kernel_size=(3, 3), stride=(1, 1), padding=(1, 1))\n",
      "  (bn1): BatchNorm2d(8, eps=1e-05, momentum=0.1, affine=True, track_running_stats=True)\n",
      "  (conv2): Conv2d(8, 16, kernel_size=(3, 3), stride=(1, 1), padding=(1, 1))\n",
      "  (bn2): BatchNorm2d(16, eps=1e-05, momentum=0.1, affine=True, track_running_stats=True)\n",
      "  (conv3): Conv2d(16, 32, kernel_size=(3, 3), stride=(1, 1), padding=(1, 1))\n",
      "  (bn3): BatchNorm2d(32, eps=1e-05, momentum=0.1, affine=True, track_running_stats=True)\n",
      "  (pool): MaxPool2d(kernel_size=2, stride=2, padding=0, dilation=1, ceil_mode=False)\n",
      "  (fc1): Linear(in_features=25088, out_features=64, bias=True)\n",
      "  (fc2): Linear(in_features=64, out_features=32, bias=True)\n",
      "  (fc3): Linear(in_features=32, out_features=5, bias=True)\n",
      "  (dropout): Dropout(p=0.5, inplace=False)\n",
      ")\n"
     ]
    }
   ],
   "source": [
    "model = CNN().to(DEVICE)\n",
    "optimizer = torch.optim.Adam(model.parameters(), lr = param_dict['learning_rate']) # optimizer Adam\n",
    "criterion = nn.CrossEntropyLoss() # 다중분류 손실함수\n",
    "\n",
    "print(model)"
   ]
  },
  {
   "cell_type": "code",
   "execution_count": 8,
   "metadata": {},
   "outputs": [],
   "source": [
    "sum_of_rmap = 0.0\n",
    "count = 1.0"
   ]
  },
  {
   "cell_type": "code",
   "execution_count": 9,
   "metadata": {},
   "outputs": [],
   "source": [
    "# train 함수[1]\n",
    "def train(model, train_loader, optimizer):\n",
    "    \n",
    "    model.train() \n",
    "    train_loss = 0 \n",
    "    correct = 0 \n",
    "    total_samples = 0\n",
    "\n",
    "    for image, label, img_name in train_loader:\n",
    "        image = image.to(DEVICE) # 이미지 \n",
    "        label = label[0].to(DEVICE) # 라벨\n",
    "\n",
    "        optimizer.zero_grad() \n",
    "        output = model(image) # 모델에 이미지 넣었을 때 결과(즉, 예측값)\n",
    "\n",
    "        labels_indices = torch.argmax(label, dim=1) # 손실함수 계산을 위해 원-핫 벡터에서 클래스 인덱스로 변환 \n",
    "        loss = criterion(output, label) # 손실 계산\n",
    "        train_loss += loss.item()\n",
    "         \n",
    "        loss.backward() \n",
    "        optimizer.step() \n",
    "\n",
    "        predicted_labels = torch.argmax(output, dim=1) # correct 계산 위해 모델의 예측 클래스 인덱스로 변환\n",
    "        correct += (predicted_labels == labels_indices).sum().item() # 예측과 정답이 같으면 correct 증가\n",
    "        total_samples += label.size(0)\n",
    "    \n",
    "        \n",
    "    train_loss /= len(train_loader) \n",
    "    train_accuracy = correct / total_samples\n",
    "    wandb.log({\"train_loss\": train_loss, \"train_accuracy\":train_accuracy})\n",
    "    return train_loss, train_accuracy"
   ]
  },
  {
   "cell_type": "code",
   "execution_count": 10,
   "metadata": {},
   "outputs": [],
   "source": [
    "def val(model, test_loader, epoch): \n",
    "    model.eval()\n",
    "    sum_of_rmap = 0.0\n",
    "    test_loss = 0\n",
    "    correct = 0\n",
    "    total_samples = 0\n",
    "    count = 1.0\n",
    "    with torch.no_grad():\n",
    "        for image, label, img_name in test_loader:\n",
    "            image = image.to(DEVICE) # 이미지\n",
    "            label= label.to(DEVICE) # 라벨\n",
    "\n",
    "            output = model(image) # 모델에 이미지 넣었을 때 결과(즉, 예측값)\n",
    "\n",
    "            labels_indices = torch.argmax(label, dim=1) # 손실함수 계산을 위해 원-핫 벡터에서 클래스 인덱스로 변환 \n",
    "            loss = criterion(output, label) # 손실 계산\n",
    "            test_loss += loss.item()\n",
    "\n",
    "            predicted_labels = torch.argmax(output, dim=1) # mAP, correct 계산 위해 모델의 예측 클래스 인덱스로 변환\n",
    "\n",
    "            one_hot_encoding = torch.zeros_like(output) \n",
    "            one_hot_encoding.scatter_(1, predicted_labels.view(-1, 1), 1) # mAP 계산 위해 output을 원-핫 인코딩4\n",
    "\n",
    "            correct += (predicted_labels == labels_indices).sum().item() # 예측값 정답이 같으면 correct 증가\n",
    "            total_samples += label.size(0)\n",
    "            count += 1.0 # count 증가\n",
    "            rmap = tf.retrieval_average_precision(one_hot_encoding, label) # mAP 계산\n",
    "            sum_of_rmap = sum_of_rmap+float(rmap) # 반복에 대한 mAP 값을 누적\n",
    "\n",
    "    test_loss /= len(test_loader) \n",
    "    test_accuracy = correct / total_samples\n",
    "    wandb.log({\"val loss\": test_loss, \"val accuracy\":test_accuracy, \"mAP\":float(sum_of_rmap)/float(count)},step=epoch)\n",
    "    return test_loss, test_accuracy, float(sum_of_rmap)/float(count)"
   ]
  },
  {
   "cell_type": "code",
   "execution_count": 11,
   "metadata": {},
   "outputs": [],
   "source": [
    "def test(model, test_loader): \n",
    "    \n",
    "    sum_of_rmap = 0.0\n",
    "    \n",
    "    count = 1.0\n",
    "    model.eval()\n",
    "    test_loss = 0\n",
    "    correct = 0\n",
    "    total_samples = 0\n",
    "\n",
    "    with torch.no_grad():\n",
    "        for image, label, img_name in test_loader:\n",
    "            image = image.to(DEVICE) # 이미지\n",
    "            label= label.to(DEVICE) # 라벨\n",
    "            print(label.shape)\n",
    "\n",
    "            output = model(image) # 모델에 이미지 넣었을 때 결과(즉, 예측값)\n",
    "\n",
    "            labels_indices = torch.argmax(label, dim=1) # 손실함수 계산을 위해 원-핫 벡터에서 클래스 인덱스로 변환 \n",
    "            loss = criterion(output, label) # 손실 계산\n",
    "            test_loss += loss.item()\n",
    "\n",
    "            predicted_labels = torch.argmax(output, dim=1) # mAP, correct 계산 위해 모델의 예측 클래스 인덱스로 변환\n",
    "\n",
    "            one_hot_encoding = torch.zeros_like(output) \n",
    "            one_hot_encoding.scatter_(1, predicted_labels.view(-1, 1), 1) # mAP 계산 위해 output을 원-핫 인코딩4\n",
    "\n",
    "            correct += (predicted_labels == labels_indices).sum().item() # 예측값 정답이 같으면 correct 증가\n",
    "            total_samples += label.size(0)\n",
    "\n",
    "            rmap = tf.retrieval_average_precision(one_hot_encoding, label) # mAP 계산\n",
    "            sum_of_rmap = sum_of_rmap+float(rmap) # 반복에 대한 mAP 값을 누적\n",
    "            wandb.log({\"total mAP\": float(sum_of_rmap)/float(count)})\n",
    "            count += 1.0\n",
    "            \n",
    "    test_loss /= len(test_loader) \n",
    "    test_accuracy = correct / total_samples\n",
    "    wandb.log({\"test loss\": test_loss, \"test accuracy\":test_accuracy})\n",
    "    \n",
    "    return test_loss, test_accuracy, float(sum_of_rmap)/float(count)"
   ]
  },
  {
   "cell_type": "code",
   "execution_count": 12,
   "metadata": {},
   "outputs": [
    {
     "name": "stderr",
     "output_type": "stream",
     "text": [
      "C:\\Users\\ksrks\\AppData\\Local\\Temp\\ipykernel_22276\\2196231548.py:39: UserWarning: Implicit dimension choice for log_softmax has been deprecated. Change the call to include dim=X as an argument.\n",
      "  x = F.log_softmax(x)\n"
     ]
    },
    {
     "name": "stdout",
     "output_type": "stream",
     "text": [
      "\n",
      "[EPOCH: 1] Train Loss: 1.6225, Train Accuracy: 0.27 \n",
      "           Val Loss: 1.6105, Val Accuracy: 0.20  \n",
      "\n",
      "rmap: 0.25782585516572\n",
      "\n",
      "[EPOCH: 2] Train Loss: 1.5961, Train Accuracy: 0.29 \n",
      "           Val Loss: 1.6184, Val Accuracy: 0.20  \n",
      "\n",
      "rmap: 0.25782585516572\n",
      "\n",
      "[EPOCH: 3] Train Loss: 1.5939, Train Accuracy: 0.29 \n",
      "           Val Loss: 1.6101, Val Accuracy: 0.20  \n",
      "\n",
      "rmap: 0.25782585516572\n",
      "\n",
      "[EPOCH: 4] Train Loss: 1.5935, Train Accuracy: 0.29 \n",
      "           Val Loss: 1.5945, Val Accuracy: 0.21  \n",
      "\n",
      "rmap: 0.260276610031724\n",
      "\n",
      "[EPOCH: 5] Train Loss: 1.5904, Train Accuracy: 0.29 \n",
      "           Val Loss: 1.6070, Val Accuracy: 0.20  \n",
      "\n",
      "rmap: 0.25782585516572\n",
      "\n",
      "[EPOCH: 6] Train Loss: 1.5903, Train Accuracy: 0.30 \n",
      "           Val Loss: 1.5913, Val Accuracy: 0.21  \n",
      "\n",
      "rmap: 0.2518010772764683\n",
      "\n",
      "[EPOCH: 7] Train Loss: 1.5842, Train Accuracy: 0.29 \n",
      "           Val Loss: 1.5932, Val Accuracy: 0.22  \n",
      "\n",
      "rmap: 0.2648552767932415\n",
      "\n",
      "[EPOCH: 8] Train Loss: 1.5935, Train Accuracy: 0.29 \n",
      "           Val Loss: 1.6047, Val Accuracy: 0.21  \n",
      "\n",
      "rmap: 0.25878723338246346\n",
      "\n",
      "[EPOCH: 9] Train Loss: 1.5778, Train Accuracy: 0.31 \n",
      "           Val Loss: 1.5760, Val Accuracy: 0.21  \n",
      "\n",
      "rmap: 0.24242524430155754\n",
      "\n",
      "[EPOCH: 10] Train Loss: 1.5859, Train Accuracy: 0.29 \n",
      "           Val Loss: 1.5897, Val Accuracy: 0.21  \n",
      "\n",
      "rmap: 0.2540634535253048\n",
      "\n",
      "[EPOCH: 11] Train Loss: 1.5919, Train Accuracy: 0.29 \n",
      "           Val Loss: 1.6099, Val Accuracy: 0.21  \n",
      "\n",
      "rmap: 0.25878723338246346\n",
      "\n",
      "[EPOCH: 12] Train Loss: 1.5903, Train Accuracy: 0.29 \n",
      "           Val Loss: 1.5932, Val Accuracy: 0.21  \n",
      "\n",
      "rmap: 0.26227492466568947\n",
      "\n",
      "[EPOCH: 13] Train Loss: 1.5822, Train Accuracy: 0.30 \n",
      "           Val Loss: 1.5967, Val Accuracy: 0.22  \n",
      "\n",
      "rmap: 0.262983039021492\n",
      "\n",
      "[EPOCH: 14] Train Loss: 1.5744, Train Accuracy: 0.30 \n",
      "           Val Loss: 1.5668, Val Accuracy: 0.23  \n",
      "\n",
      "rmap: 0.26816120371222496\n",
      "\n",
      "[EPOCH: 15] Train Loss: 1.5722, Train Accuracy: 0.30 \n",
      "           Val Loss: 1.5676, Val Accuracy: 0.22  \n",
      "\n",
      "rmap: 0.24766362830996513\n",
      "\n",
      "[EPOCH: 16] Train Loss: 1.5757, Train Accuracy: 0.30 \n",
      "           Val Loss: 1.5676, Val Accuracy: 0.22  \n",
      "\n",
      "rmap: 0.2548104878515005\n",
      "\n",
      "[EPOCH: 17] Train Loss: 1.5735, Train Accuracy: 0.30 \n",
      "           Val Loss: 1.5749, Val Accuracy: 0.22  \n",
      "\n",
      "rmap: 0.2597036361694336\n",
      "\n",
      "[EPOCH: 18] Train Loss: 1.5655, Train Accuracy: 0.29 \n",
      "           Val Loss: 1.5672, Val Accuracy: 0.21  \n",
      "\n",
      "rmap: 0.25329685397446156\n",
      "\n",
      "[EPOCH: 19] Train Loss: 1.5676, Train Accuracy: 0.30 \n",
      "           Val Loss: 1.5461, Val Accuracy: 0.24  \n",
      "\n",
      "rmap: 0.2688375189900398\n",
      "\n",
      "[EPOCH: 20] Train Loss: 1.5802, Train Accuracy: 0.31 \n",
      "           Val Loss: 1.5597, Val Accuracy: 0.24  \n",
      "\n",
      "rmap: 0.27271516621112823\n",
      "\n",
      "[EPOCH: 21] Train Loss: 1.5679, Train Accuracy: 0.30 \n",
      "           Val Loss: 1.5494, Val Accuracy: 0.24  \n",
      "\n",
      "rmap: 0.26882320269942284\n",
      "\n",
      "[EPOCH: 22] Train Loss: 1.5696, Train Accuracy: 0.31 \n",
      "           Val Loss: 1.5659, Val Accuracy: 0.23  \n",
      "\n",
      "rmap: 0.2669483982026577\n",
      "\n",
      "[EPOCH: 23] Train Loss: 1.5632, Train Accuracy: 0.31 \n",
      "           Val Loss: 1.5676, Val Accuracy: 0.22  \n",
      "\n",
      "rmap: 0.25378389842808247\n",
      "\n",
      "[EPOCH: 24] Train Loss: 1.5796, Train Accuracy: 0.30 \n",
      "           Val Loss: 1.5403, Val Accuracy: 0.25  \n",
      "\n",
      "rmap: 0.27075948752462864\n",
      "\n",
      "[EPOCH: 25] Train Loss: 1.5704, Train Accuracy: 0.30 \n",
      "           Val Loss: 1.5390, Val Accuracy: 0.25  \n",
      "\n",
      "rmap: 0.27540482580661774\n",
      "\n",
      "[EPOCH: 26] Train Loss: 1.5561, Train Accuracy: 0.31 \n",
      "           Val Loss: 1.5501, Val Accuracy: 0.24  \n",
      "\n",
      "rmap: 0.2688496857881546\n",
      "\n",
      "[EPOCH: 27] Train Loss: 1.5602, Train Accuracy: 0.31 \n",
      "           Val Loss: 1.5367, Val Accuracy: 0.25  \n",
      "\n",
      "rmap: 0.27964789792895317\n",
      "\n",
      "[EPOCH: 28] Train Loss: 1.5487, Train Accuracy: 0.32 \n",
      "           Val Loss: 1.5427, Val Accuracy: 0.25  \n",
      "\n",
      "rmap: 0.2754123639315367\n",
      "\n",
      "[EPOCH: 29] Train Loss: 1.5580, Train Accuracy: 0.31 \n",
      "           Val Loss: 1.5533, Val Accuracy: 0.22  \n",
      "\n",
      "rmap: 0.26135243102908134\n",
      "\n",
      "[EPOCH: 30] Train Loss: 1.5628, Train Accuracy: 0.31 \n",
      "           Val Loss: 1.5522, Val Accuracy: 0.23  \n",
      "\n",
      "rmap: 0.26544637605547905\n"
     ]
    },
    {
     "data": {
      "application/vnd.jupyter.widget-view+json": {
       "model_id": "4ff4300f7520481eb07802ddf077ef87",
       "version_major": 2,
       "version_minor": 0
      },
      "text/plain": [
       "VBox(children=(Label(value='0.001 MB of 0.001 MB uploaded\\r'), FloatProgress(value=1.0, max=1.0)))"
      ]
     },
     "metadata": {},
     "output_type": "display_data"
    },
    {
     "data": {
      "text/html": [
       "<style>\n",
       "    table.wandb td:nth-child(1) { padding: 0 10px; text-align: left ; width: auto;} td:nth-child(2) {text-align: left ; width: 100%}\n",
       "    .wandb-row { display: flex; flex-direction: row; flex-wrap: wrap; justify-content: flex-start; width: 100% }\n",
       "    .wandb-col { display: flex; flex-direction: column; flex-basis: 100%; flex: 1; padding: 10px; }\n",
       "    </style>\n",
       "<div class=\"wandb-row\"><div class=\"wandb-col\"><h3>Run history:</h3><br/><table class=\"wandb\"><tr><td>mAP</td><td>▄▄▄▄▄▃▅▄▁▃▄▅▅▆▂▃▄▃▆▇▆▆▃▆▇▆█▇▅▅</td></tr><tr><td>train_accuracy</td><td>▁▄▄▄▄▆▄▅▇▅▅▄▆▅▆▆▆▅▆█▆▇▇▅▆▇▇█▇█</td></tr><tr><td>train_loss</td><td>█▆▅▅▅▅▄▅▄▅▅▅▄▃▃▄▃▃▃▄▃▃▂▄▃▂▂▁▂▂</td></tr><tr><td>val accuracy</td><td>▁▁▁▂▁▂▄▂▃▃▂▃▄▆▄▄▄▃▇▇▇▅▄██▇██▄▅</td></tr><tr><td>val loss</td><td>▇█▇▆▇▆▆▇▄▆▇▆▆▄▄▄▄▄▂▃▂▃▄▁▁▂▁▂▂▂</td></tr></table><br/></div><div class=\"wandb-col\"><h3>Run summary:</h3><br/><table class=\"wandb\"><tr><td>mAP</td><td>0.26545</td></tr><tr><td>train_accuracy</td><td>0.3142</td></tr><tr><td>train_loss</td><td>1.56278</td></tr><tr><td>val accuracy</td><td>0.22897</td></tr><tr><td>val loss</td><td>1.55219</td></tr></table><br/></div></div>"
      ],
      "text/plain": [
       "<IPython.core.display.HTML object>"
      ]
     },
     "metadata": {},
     "output_type": "display_data"
    },
    {
     "data": {
      "text/html": [
       " View run <strong style=\"color:#cdcd00\">seorang_resnet</strong> at: <a href='https://wandb.ai/uos_seorang/temp/runs/qong4pqj' target=\"_blank\">https://wandb.ai/uos_seorang/temp/runs/qong4pqj</a><br/>Synced 5 W&B file(s), 0 media file(s), 0 artifact file(s) and 0 other file(s)"
      ],
      "text/plain": [
       "<IPython.core.display.HTML object>"
      ]
     },
     "metadata": {},
     "output_type": "display_data"
    },
    {
     "data": {
      "text/html": [
       "Find logs at: <code>.\\wandb\\run-20231211_194315-qong4pqj\\logs</code>"
      ],
      "text/plain": [
       "<IPython.core.display.HTML object>"
      ]
     },
     "metadata": {},
     "output_type": "display_data"
    }
   ],
   "source": [
    "sum_of_rmap = 0.0\n",
    "\n",
    "for epoch in range(1, param_dict['epochs'] + 1): # 에폭만큼 반복하며 학습\n",
    "    train_loss, train_accuracy = train(model, train_loader, optimizer)\n",
    "    valid_loss, valid_accuracy, rmap = val(model, val_loader, epoch)\n",
    "\n",
    "    print(\"\\n[EPOCH: {}] Train Loss: {:.4f}, Train Accuracy: {:.2f} \\n\"\n",
    "          \"           Val Loss: {:.4f}, Val Accuracy: {:.2f}  \\n\".format(\n",
    "        epoch, train_loss, train_accuracy, valid_loss, valid_accuracy))\n",
    "    print(\"rmap:\", rmap)\n",
    "    \n",
    "torch.save(model.state_dict(), 'model_weights.pth')\n",
    "end_time = time.time()\n",
    "wandb.finish()"
   ]
  },
  {
   "cell_type": "code",
   "execution_count": 13,
   "metadata": {},
   "outputs": [
    {
     "data": {
      "application/vnd.jupyter.widget-view+json": {
       "model_id": "e563dcbcb447488caa7e27ed071b9b3a",
       "version_major": 2,
       "version_minor": 0
      },
      "text/plain": [
       "VBox(children=(Label(value='Waiting for wandb.init()...\\r'), FloatProgress(value=0.011111111111111112, max=1.0…"
      ]
     },
     "metadata": {},
     "output_type": "display_data"
    },
    {
     "data": {
      "text/html": [
       "Tracking run with wandb version 0.16.1"
      ],
      "text/plain": [
       "<IPython.core.display.HTML object>"
      ]
     },
     "metadata": {},
     "output_type": "display_data"
    },
    {
     "data": {
      "text/html": [
       "Run data is saved locally in <code>c:\\Users\\ksrks\\OneDrive - UOS\\문서 - 인공지능 프로젝트\\MultiClassCNN_kym\\wandb\\run-20231211_194807-a7tsprx7</code>"
      ],
      "text/plain": [
       "<IPython.core.display.HTML object>"
      ]
     },
     "metadata": {},
     "output_type": "display_data"
    },
    {
     "data": {
      "text/html": [
       "Syncing run <strong><a href='https://wandb.ai/uos_seorang/temp-test/runs/a7tsprx7' target=\"_blank\">seorang_resnet</a></strong> to <a href='https://wandb.ai/uos_seorang/temp-test' target=\"_blank\">Weights & Biases</a> (<a href='https://wandb.me/run' target=\"_blank\">docs</a>)<br/>"
      ],
      "text/plain": [
       "<IPython.core.display.HTML object>"
      ]
     },
     "metadata": {},
     "output_type": "display_data"
    },
    {
     "data": {
      "text/html": [
       " View project at <a href='https://wandb.ai/uos_seorang/temp-test' target=\"_blank\">https://wandb.ai/uos_seorang/temp-test</a>"
      ],
      "text/plain": [
       "<IPython.core.display.HTML object>"
      ]
     },
     "metadata": {},
     "output_type": "display_data"
    },
    {
     "data": {
      "text/html": [
       " View run at <a href='https://wandb.ai/uos_seorang/temp-test/runs/a7tsprx7' target=\"_blank\">https://wandb.ai/uos_seorang/temp-test/runs/a7tsprx7</a>"
      ],
      "text/plain": [
       "<IPython.core.display.HTML object>"
      ]
     },
     "metadata": {},
     "output_type": "display_data"
    },
    {
     "name": "stdout",
     "output_type": "stream",
     "text": [
      "torch.Size([32, 5])\n",
      "torch.Size([32, 5])\n"
     ]
    },
    {
     "name": "stderr",
     "output_type": "stream",
     "text": [
      "C:\\Users\\ksrks\\AppData\\Local\\Temp\\ipykernel_22276\\2196231548.py:39: UserWarning: Implicit dimension choice for log_softmax has been deprecated. Change the call to include dim=X as an argument.\n",
      "  x = F.log_softmax(x)\n"
     ]
    },
    {
     "name": "stdout",
     "output_type": "stream",
     "text": [
      "torch.Size([32, 5])\n",
      "torch.Size([32, 5])\n",
      "torch.Size([32, 5])\n",
      "torch.Size([32, 5])\n",
      "torch.Size([32, 5])\n",
      "torch.Size([32, 5])\n",
      "torch.Size([32, 5])\n",
      "torch.Size([32, 5])\n",
      "torch.Size([13, 5])\n"
     ]
    }
   ],
   "source": [
    "wandb.init(project='temp-test',name='seorang_resnet')\n",
    "wandb.run.save()\n",
    "wandb.config.update(param_dict)\n",
    "sum_of_rmap = 0.0\n",
    "\n",
    "model.load_state_dict(torch.load('model_weights.pth'))\n",
    "model.to(DEVICE) \n",
    "test_loss, test_accuracy, rmap = test(model, test_loader)"
   ]
  },
  {
   "cell_type": "code",
   "execution_count": 14,
   "metadata": {},
   "outputs": [
    {
     "data": {
      "text/plain": [
       "'\\n참고 문헌\\n\\n[1]https://github.com/Justin-A/DeepLearning101\\n'"
      ]
     },
     "execution_count": 14,
     "metadata": {},
     "output_type": "execute_result"
    }
   ],
   "source": [
    "'''\n",
    "참고 문헌\n",
    "\n",
    "[1]https://github.com/Justin-A/DeepLearning101\n",
    "'''"
   ]
  }
 ],
 "metadata": {
  "kernelspec": {
   "display_name": "Python 3 (ipykernel)",
   "language": "python",
   "name": "python3"
  },
  "language_info": {
   "codemirror_mode": {
    "name": "ipython",
    "version": 3
   },
   "file_extension": ".py",
   "mimetype": "text/x-python",
   "name": "python",
   "nbconvert_exporter": "python",
   "pygments_lexer": "ipython3",
   "version": "3.8.18"
  }
 },
 "nbformat": 4,
 "nbformat_minor": 2
}
