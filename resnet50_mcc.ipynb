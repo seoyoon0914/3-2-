{
 "cells": [
  {
   "cell_type": "code",
   "execution_count": 1,
   "metadata": {},
   "outputs": [],
   "source": [
    "import os\n",
    "os.environ['KMP_DUPLICATE_LIB_OK']='True'"
   ]
  },
  {
   "cell_type": "code",
   "execution_count": 2,
   "metadata": {},
   "outputs": [],
   "source": [
    "from fashion_data_module import FashionDataModule \n",
    "from torchvision.models.resnet import resnet50\n",
    "import wandb\n",
    "import time\n",
    "import torch\n",
    "import torch.nn as nn\n",
    "import torch.nn.functional as F\n",
    "import torchmetrics.functional as tf"
   ]
  },
  {
   "cell_type": "code",
   "execution_count": 3,
   "metadata": {},
   "outputs": [
    {
     "name": "stdout",
     "output_type": "stream",
     "text": [
      "Using PyTorch version: 2.1.1+cu118  Device: cuda\n"
     ]
    }
   ],
   "source": [
    "if torch.cuda.is_available():\n",
    "    DEVICE = torch.device('cuda')\n",
    "else:\n",
    "    DEVICE = torch.device('cpu')\n",
    "print('Using PyTorch version:', torch.__version__, ' Device:', DEVICE)"
   ]
  },
  {
   "cell_type": "code",
   "execution_count": 4,
   "metadata": {},
   "outputs": [
    {
     "name": "stderr",
     "output_type": "stream",
     "text": [
      "Failed to detect the name of this notebook, you can set it manually with the WANDB_NOTEBOOK_NAME environment variable to enable code saving.\n",
      "\u001b[34m\u001b[1mwandb\u001b[0m: Currently logged in as: \u001b[33mmongcha33\u001b[0m (\u001b[33muos_seorang\u001b[0m). Use \u001b[1m`wandb login --relogin`\u001b[0m to force relogin\n"
     ]
    },
    {
     "data": {
      "text/html": [
       "Tracking run with wandb version 0.16.1"
      ],
      "text/plain": [
       "<IPython.core.display.HTML object>"
      ]
     },
     "metadata": {},
     "output_type": "display_data"
    },
    {
     "data": {
      "text/html": [
       "Run data is saved locally in <code>c:\\Users\\ksrks\\OneDrive - UOS\\문서 - 인공지능 프로젝트\\MultiClassCNN_kym\\wandb\\run-20231211_183730-7t8ylwix</code>"
      ],
      "text/plain": [
       "<IPython.core.display.HTML object>"
      ]
     },
     "metadata": {},
     "output_type": "display_data"
    },
    {
     "data": {
      "text/html": [
       "Syncing run <strong><a href='https://wandb.ai/uos_seorang/temp/runs/7t8ylwix' target=\"_blank\">seorang_resnet</a></strong> to <a href='https://wandb.ai/uos_seorang/temp' target=\"_blank\">Weights & Biases</a> (<a href='https://wandb.me/run' target=\"_blank\">docs</a>)<br/>"
      ],
      "text/plain": [
       "<IPython.core.display.HTML object>"
      ]
     },
     "metadata": {},
     "output_type": "display_data"
    },
    {
     "data": {
      "text/html": [
       " View project at <a href='https://wandb.ai/uos_seorang/temp' target=\"_blank\">https://wandb.ai/uos_seorang/temp</a>"
      ],
      "text/plain": [
       "<IPython.core.display.HTML object>"
      ]
     },
     "metadata": {},
     "output_type": "display_data"
    },
    {
     "data": {
      "text/html": [
       " View run at <a href='https://wandb.ai/uos_seorang/temp/runs/7t8ylwix' target=\"_blank\">https://wandb.ai/uos_seorang/temp/runs/7t8ylwix</a>"
      ],
      "text/plain": [
       "<IPython.core.display.HTML object>"
      ]
     },
     "metadata": {},
     "output_type": "display_data"
    },
    {
     "name": "stderr",
     "output_type": "stream",
     "text": [
      "\u001b[34m\u001b[1mwandb\u001b[0m: \u001b[33mWARNING\u001b[0m Calling wandb.run.save without any arguments is deprecated.Changes to attributes are automatically persisted.\n"
     ]
    }
   ],
   "source": [
    "param_dict = {\n",
    "    \"conv_out_dim\":512,\n",
    "    \"hidden_dim\":256, \n",
    "    \"batch_size\":32,\n",
    "    \"image_dim\":224, \n",
    "    \"learning_rate\":0.00001,\n",
    "    \"momentum\":0.9,\n",
    "    \"weight_decay\":0.01, \n",
    "    \"n_classes\":5,\n",
    "    \"thresh\":0.5,\n",
    "    \"use_cutmix\":True,\n",
    "    \"use_pos_encoding\":False,\n",
    "    \"epochs\":30\n",
    "}\n",
    "\n",
    "wandb.init(project='temp',name='seorang_resnet')\n",
    "wandb.run.save()\n",
    "wandb.config.update(param_dict)"
   ]
  },
  {
   "cell_type": "code",
   "execution_count": 5,
   "metadata": {},
   "outputs": [
    {
     "name": "stdout",
     "output_type": "stream",
     "text": [
      "<fashion_data_module.FashionDataModule object at 0x0000026DFA516D90>\n"
     ]
    }
   ],
   "source": [
    "img_data_dir = \"C:/Users/ksrks/OneDrive - UOS/문서 - 인공지능 프로젝트/fashion_dataset_v2/\"\n",
    "\n",
    "# FashionDataModule 사용\n",
    "coco = FashionDataModule(\n",
    "    img_data_dir,\n",
    "    img_size=param_dict[\"image_dim\"],\n",
    "    batch_size=param_dict[\"batch_size\"],\n",
    "    use_cutmix=param_dict[\"use_cutmix\"],\n",
    "    cutmix_alpha=1.0)\n",
    "\n",
    "coco.setup() # Creates train, validation, test datasets\n",
    "param_dict[\"data\"] = coco\n",
    "\n",
    "train_loader = coco.train_dataloader() \n",
    "test_loader = coco.test_dataloader()\n",
    "val_loader = coco.val_dataloader() \n",
    "\n",
    "print(param_dict[\"data\"]) "
   ]
  },
  {
   "cell_type": "code",
   "execution_count": 6,
   "metadata": {},
   "outputs": [
    {
     "name": "stdout",
     "output_type": "stream",
     "text": [
      "ResNet(\n",
      "  (conv1): Conv2d(3, 64, kernel_size=(7, 7), stride=(2, 2), padding=(3, 3), bias=False)\n",
      "  (bn1): BatchNorm2d(64, eps=1e-05, momentum=0.1, affine=True, track_running_stats=True)\n",
      "  (relu): ReLU(inplace=True)\n",
      "  (maxpool): MaxPool2d(kernel_size=3, stride=2, padding=1, dilation=1, ceil_mode=False)\n",
      "  (layer1): Sequential(\n",
      "    (0): Bottleneck(\n",
      "      (conv1): Conv2d(64, 64, kernel_size=(1, 1), stride=(1, 1), bias=False)\n",
      "      (bn1): BatchNorm2d(64, eps=1e-05, momentum=0.1, affine=True, track_running_stats=True)\n",
      "      (conv2): Conv2d(64, 64, kernel_size=(3, 3), stride=(1, 1), padding=(1, 1), bias=False)\n",
      "      (bn2): BatchNorm2d(64, eps=1e-05, momentum=0.1, affine=True, track_running_stats=True)\n",
      "      (conv3): Conv2d(64, 256, kernel_size=(1, 1), stride=(1, 1), bias=False)\n",
      "      (bn3): BatchNorm2d(256, eps=1e-05, momentum=0.1, affine=True, track_running_stats=True)\n",
      "      (relu): ReLU(inplace=True)\n",
      "      (downsample): Sequential(\n",
      "        (0): Conv2d(64, 256, kernel_size=(1, 1), stride=(1, 1), bias=False)\n",
      "        (1): BatchNorm2d(256, eps=1e-05, momentum=0.1, affine=True, track_running_stats=True)\n",
      "      )\n",
      "    )\n",
      "    (1): Bottleneck(\n",
      "      (conv1): Conv2d(256, 64, kernel_size=(1, 1), stride=(1, 1), bias=False)\n",
      "      (bn1): BatchNorm2d(64, eps=1e-05, momentum=0.1, affine=True, track_running_stats=True)\n",
      "      (conv2): Conv2d(64, 64, kernel_size=(3, 3), stride=(1, 1), padding=(1, 1), bias=False)\n",
      "      (bn2): BatchNorm2d(64, eps=1e-05, momentum=0.1, affine=True, track_running_stats=True)\n",
      "      (conv3): Conv2d(64, 256, kernel_size=(1, 1), stride=(1, 1), bias=False)\n",
      "      (bn3): BatchNorm2d(256, eps=1e-05, momentum=0.1, affine=True, track_running_stats=True)\n",
      "      (relu): ReLU(inplace=True)\n",
      "    )\n",
      "    (2): Bottleneck(\n",
      "      (conv1): Conv2d(256, 64, kernel_size=(1, 1), stride=(1, 1), bias=False)\n",
      "      (bn1): BatchNorm2d(64, eps=1e-05, momentum=0.1, affine=True, track_running_stats=True)\n",
      "      (conv2): Conv2d(64, 64, kernel_size=(3, 3), stride=(1, 1), padding=(1, 1), bias=False)\n",
      "      (bn2): BatchNorm2d(64, eps=1e-05, momentum=0.1, affine=True, track_running_stats=True)\n",
      "      (conv3): Conv2d(64, 256, kernel_size=(1, 1), stride=(1, 1), bias=False)\n",
      "      (bn3): BatchNorm2d(256, eps=1e-05, momentum=0.1, affine=True, track_running_stats=True)\n",
      "      (relu): ReLU(inplace=True)\n",
      "    )\n",
      "  )\n",
      "  (layer2): Sequential(\n",
      "    (0): Bottleneck(\n",
      "      (conv1): Conv2d(256, 128, kernel_size=(1, 1), stride=(1, 1), bias=False)\n",
      "      (bn1): BatchNorm2d(128, eps=1e-05, momentum=0.1, affine=True, track_running_stats=True)\n",
      "      (conv2): Conv2d(128, 128, kernel_size=(3, 3), stride=(2, 2), padding=(1, 1), bias=False)\n",
      "      (bn2): BatchNorm2d(128, eps=1e-05, momentum=0.1, affine=True, track_running_stats=True)\n",
      "      (conv3): Conv2d(128, 512, kernel_size=(1, 1), stride=(1, 1), bias=False)\n",
      "      (bn3): BatchNorm2d(512, eps=1e-05, momentum=0.1, affine=True, track_running_stats=True)\n",
      "      (relu): ReLU(inplace=True)\n",
      "      (downsample): Sequential(\n",
      "        (0): Conv2d(256, 512, kernel_size=(1, 1), stride=(2, 2), bias=False)\n",
      "        (1): BatchNorm2d(512, eps=1e-05, momentum=0.1, affine=True, track_running_stats=True)\n",
      "      )\n",
      "    )\n",
      "    (1): Bottleneck(\n",
      "      (conv1): Conv2d(512, 128, kernel_size=(1, 1), stride=(1, 1), bias=False)\n",
      "      (bn1): BatchNorm2d(128, eps=1e-05, momentum=0.1, affine=True, track_running_stats=True)\n",
      "      (conv2): Conv2d(128, 128, kernel_size=(3, 3), stride=(1, 1), padding=(1, 1), bias=False)\n",
      "      (bn2): BatchNorm2d(128, eps=1e-05, momentum=0.1, affine=True, track_running_stats=True)\n",
      "      (conv3): Conv2d(128, 512, kernel_size=(1, 1), stride=(1, 1), bias=False)\n",
      "      (bn3): BatchNorm2d(512, eps=1e-05, momentum=0.1, affine=True, track_running_stats=True)\n",
      "      (relu): ReLU(inplace=True)\n",
      "    )\n",
      "    (2): Bottleneck(\n",
      "      (conv1): Conv2d(512, 128, kernel_size=(1, 1), stride=(1, 1), bias=False)\n",
      "      (bn1): BatchNorm2d(128, eps=1e-05, momentum=0.1, affine=True, track_running_stats=True)\n",
      "      (conv2): Conv2d(128, 128, kernel_size=(3, 3), stride=(1, 1), padding=(1, 1), bias=False)\n",
      "      (bn2): BatchNorm2d(128, eps=1e-05, momentum=0.1, affine=True, track_running_stats=True)\n",
      "      (conv3): Conv2d(128, 512, kernel_size=(1, 1), stride=(1, 1), bias=False)\n",
      "      (bn3): BatchNorm2d(512, eps=1e-05, momentum=0.1, affine=True, track_running_stats=True)\n",
      "      (relu): ReLU(inplace=True)\n",
      "    )\n",
      "    (3): Bottleneck(\n",
      "      (conv1): Conv2d(512, 128, kernel_size=(1, 1), stride=(1, 1), bias=False)\n",
      "      (bn1): BatchNorm2d(128, eps=1e-05, momentum=0.1, affine=True, track_running_stats=True)\n",
      "      (conv2): Conv2d(128, 128, kernel_size=(3, 3), stride=(1, 1), padding=(1, 1), bias=False)\n",
      "      (bn2): BatchNorm2d(128, eps=1e-05, momentum=0.1, affine=True, track_running_stats=True)\n",
      "      (conv3): Conv2d(128, 512, kernel_size=(1, 1), stride=(1, 1), bias=False)\n",
      "      (bn3): BatchNorm2d(512, eps=1e-05, momentum=0.1, affine=True, track_running_stats=True)\n",
      "      (relu): ReLU(inplace=True)\n",
      "    )\n",
      "  )\n",
      "  (layer3): Sequential(\n",
      "    (0): Bottleneck(\n",
      "      (conv1): Conv2d(512, 256, kernel_size=(1, 1), stride=(1, 1), bias=False)\n",
      "      (bn1): BatchNorm2d(256, eps=1e-05, momentum=0.1, affine=True, track_running_stats=True)\n",
      "      (conv2): Conv2d(256, 256, kernel_size=(3, 3), stride=(2, 2), padding=(1, 1), bias=False)\n",
      "      (bn2): BatchNorm2d(256, eps=1e-05, momentum=0.1, affine=True, track_running_stats=True)\n",
      "      (conv3): Conv2d(256, 1024, kernel_size=(1, 1), stride=(1, 1), bias=False)\n",
      "      (bn3): BatchNorm2d(1024, eps=1e-05, momentum=0.1, affine=True, track_running_stats=True)\n",
      "      (relu): ReLU(inplace=True)\n",
      "      (downsample): Sequential(\n",
      "        (0): Conv2d(512, 1024, kernel_size=(1, 1), stride=(2, 2), bias=False)\n",
      "        (1): BatchNorm2d(1024, eps=1e-05, momentum=0.1, affine=True, track_running_stats=True)\n",
      "      )\n",
      "    )\n",
      "    (1): Bottleneck(\n",
      "      (conv1): Conv2d(1024, 256, kernel_size=(1, 1), stride=(1, 1), bias=False)\n",
      "      (bn1): BatchNorm2d(256, eps=1e-05, momentum=0.1, affine=True, track_running_stats=True)\n",
      "      (conv2): Conv2d(256, 256, kernel_size=(3, 3), stride=(1, 1), padding=(1, 1), bias=False)\n",
      "      (bn2): BatchNorm2d(256, eps=1e-05, momentum=0.1, affine=True, track_running_stats=True)\n",
      "      (conv3): Conv2d(256, 1024, kernel_size=(1, 1), stride=(1, 1), bias=False)\n",
      "      (bn3): BatchNorm2d(1024, eps=1e-05, momentum=0.1, affine=True, track_running_stats=True)\n",
      "      (relu): ReLU(inplace=True)\n",
      "    )\n",
      "    (2): Bottleneck(\n",
      "      (conv1): Conv2d(1024, 256, kernel_size=(1, 1), stride=(1, 1), bias=False)\n",
      "      (bn1): BatchNorm2d(256, eps=1e-05, momentum=0.1, affine=True, track_running_stats=True)\n",
      "      (conv2): Conv2d(256, 256, kernel_size=(3, 3), stride=(1, 1), padding=(1, 1), bias=False)\n",
      "      (bn2): BatchNorm2d(256, eps=1e-05, momentum=0.1, affine=True, track_running_stats=True)\n",
      "      (conv3): Conv2d(256, 1024, kernel_size=(1, 1), stride=(1, 1), bias=False)\n",
      "      (bn3): BatchNorm2d(1024, eps=1e-05, momentum=0.1, affine=True, track_running_stats=True)\n",
      "      (relu): ReLU(inplace=True)\n",
      "    )\n",
      "    (3): Bottleneck(\n",
      "      (conv1): Conv2d(1024, 256, kernel_size=(1, 1), stride=(1, 1), bias=False)\n",
      "      (bn1): BatchNorm2d(256, eps=1e-05, momentum=0.1, affine=True, track_running_stats=True)\n",
      "      (conv2): Conv2d(256, 256, kernel_size=(3, 3), stride=(1, 1), padding=(1, 1), bias=False)\n",
      "      (bn2): BatchNorm2d(256, eps=1e-05, momentum=0.1, affine=True, track_running_stats=True)\n",
      "      (conv3): Conv2d(256, 1024, kernel_size=(1, 1), stride=(1, 1), bias=False)\n",
      "      (bn3): BatchNorm2d(1024, eps=1e-05, momentum=0.1, affine=True, track_running_stats=True)\n",
      "      (relu): ReLU(inplace=True)\n",
      "    )\n",
      "    (4): Bottleneck(\n",
      "      (conv1): Conv2d(1024, 256, kernel_size=(1, 1), stride=(1, 1), bias=False)\n",
      "      (bn1): BatchNorm2d(256, eps=1e-05, momentum=0.1, affine=True, track_running_stats=True)\n",
      "      (conv2): Conv2d(256, 256, kernel_size=(3, 3), stride=(1, 1), padding=(1, 1), bias=False)\n",
      "      (bn2): BatchNorm2d(256, eps=1e-05, momentum=0.1, affine=True, track_running_stats=True)\n",
      "      (conv3): Conv2d(256, 1024, kernel_size=(1, 1), stride=(1, 1), bias=False)\n",
      "      (bn3): BatchNorm2d(1024, eps=1e-05, momentum=0.1, affine=True, track_running_stats=True)\n",
      "      (relu): ReLU(inplace=True)\n",
      "    )\n",
      "    (5): Bottleneck(\n",
      "      (conv1): Conv2d(1024, 256, kernel_size=(1, 1), stride=(1, 1), bias=False)\n",
      "      (bn1): BatchNorm2d(256, eps=1e-05, momentum=0.1, affine=True, track_running_stats=True)\n",
      "      (conv2): Conv2d(256, 256, kernel_size=(3, 3), stride=(1, 1), padding=(1, 1), bias=False)\n",
      "      (bn2): BatchNorm2d(256, eps=1e-05, momentum=0.1, affine=True, track_running_stats=True)\n",
      "      (conv3): Conv2d(256, 1024, kernel_size=(1, 1), stride=(1, 1), bias=False)\n",
      "      (bn3): BatchNorm2d(1024, eps=1e-05, momentum=0.1, affine=True, track_running_stats=True)\n",
      "      (relu): ReLU(inplace=True)\n",
      "    )\n",
      "  )\n",
      "  (layer4): Sequential(\n",
      "    (0): Bottleneck(\n",
      "      (conv1): Conv2d(1024, 512, kernel_size=(1, 1), stride=(1, 1), bias=False)\n",
      "      (bn1): BatchNorm2d(512, eps=1e-05, momentum=0.1, affine=True, track_running_stats=True)\n",
      "      (conv2): Conv2d(512, 512, kernel_size=(3, 3), stride=(2, 2), padding=(1, 1), bias=False)\n",
      "      (bn2): BatchNorm2d(512, eps=1e-05, momentum=0.1, affine=True, track_running_stats=True)\n",
      "      (conv3): Conv2d(512, 2048, kernel_size=(1, 1), stride=(1, 1), bias=False)\n",
      "      (bn3): BatchNorm2d(2048, eps=1e-05, momentum=0.1, affine=True, track_running_stats=True)\n",
      "      (relu): ReLU(inplace=True)\n",
      "      (downsample): Sequential(\n",
      "        (0): Conv2d(1024, 2048, kernel_size=(1, 1), stride=(2, 2), bias=False)\n",
      "        (1): BatchNorm2d(2048, eps=1e-05, momentum=0.1, affine=True, track_running_stats=True)\n",
      "      )\n",
      "    )\n",
      "    (1): Bottleneck(\n",
      "      (conv1): Conv2d(2048, 512, kernel_size=(1, 1), stride=(1, 1), bias=False)\n",
      "      (bn1): BatchNorm2d(512, eps=1e-05, momentum=0.1, affine=True, track_running_stats=True)\n",
      "      (conv2): Conv2d(512, 512, kernel_size=(3, 3), stride=(1, 1), padding=(1, 1), bias=False)\n",
      "      (bn2): BatchNorm2d(512, eps=1e-05, momentum=0.1, affine=True, track_running_stats=True)\n",
      "      (conv3): Conv2d(512, 2048, kernel_size=(1, 1), stride=(1, 1), bias=False)\n",
      "      (bn3): BatchNorm2d(2048, eps=1e-05, momentum=0.1, affine=True, track_running_stats=True)\n",
      "      (relu): ReLU(inplace=True)\n",
      "    )\n",
      "    (2): Bottleneck(\n",
      "      (conv1): Conv2d(2048, 512, kernel_size=(1, 1), stride=(1, 1), bias=False)\n",
      "      (bn1): BatchNorm2d(512, eps=1e-05, momentum=0.1, affine=True, track_running_stats=True)\n",
      "      (conv2): Conv2d(512, 512, kernel_size=(3, 3), stride=(1, 1), padding=(1, 1), bias=False)\n",
      "      (bn2): BatchNorm2d(512, eps=1e-05, momentum=0.1, affine=True, track_running_stats=True)\n",
      "      (conv3): Conv2d(512, 2048, kernel_size=(1, 1), stride=(1, 1), bias=False)\n",
      "      (bn3): BatchNorm2d(2048, eps=1e-05, momentum=0.1, affine=True, track_running_stats=True)\n",
      "      (relu): ReLU(inplace=True)\n",
      "    )\n",
      "  )\n",
      "  (avgpool): AdaptiveAvgPool2d(output_size=(1, 1))\n",
      "  (fc): Linear(in_features=2048, out_features=5, bias=True)\n",
      ")\n"
     ]
    }
   ],
   "source": [
    "model = resnet50(weights='ResNet50_Weights.DEFAULT').to(DEVICE) # ResNet50 모델, 기본 가중치로 설정\n",
    "num_classes = 5 # 분류할 클래스(5개)\n",
    "model.fc = nn.Linear(model.fc.in_features, num_classes).to(DEVICE) # 모델의 fc 레이어를 새로운 선형 레이어로 대체 -> 분류 클래스 조정\n",
    "model = model.to(DEVICE)\n",
    "\n",
    "optimizer = torch.optim.Adam(model.parameters(), lr = param_dict['learning_rate']) # optimizer Adam\n",
    "criterion = nn.CrossEntropyLoss() # 다중분류 손실함수\n",
    "\n",
    "print(model)"
   ]
  },
  {
   "cell_type": "code",
   "execution_count": 7,
   "metadata": {},
   "outputs": [],
   "source": [
    "sum_of_rmap = 0.0\n",
    "count = 1.0"
   ]
  },
  {
   "cell_type": "code",
   "execution_count": 8,
   "metadata": {},
   "outputs": [],
   "source": [
    "# train 함수[1]\n",
    "def train(model, train_loader, optimizer):\n",
    "    \n",
    "    model.train() \n",
    "    train_loss = 0 \n",
    "    correct = 0 \n",
    "    total_samples = 0\n",
    "\n",
    "    for image, label, img_name in train_loader:\n",
    "        image = image.to(DEVICE) # 이미지 \n",
    "        label = label[0].to(DEVICE) # 라벨\n",
    "\n",
    "        optimizer.zero_grad() \n",
    "        output = model(image) # 모델에 이미지 넣었을 때 결과(즉, 예측값)\n",
    "\n",
    "        labels_indices = torch.argmax(label, dim=1) # 손실함수 계산을 위해 원-핫 벡터에서 클래스 인덱스로 변환 \n",
    "        loss = criterion(output, label) # 손실 계산\n",
    "        train_loss += loss.item()\n",
    "         \n",
    "        loss.backward() \n",
    "        optimizer.step() \n",
    "\n",
    "        predicted_labels = torch.argmax(output, dim=1) # correct 계산 위해 모델의 예측 클래스 인덱스로 변환\n",
    "        correct += (predicted_labels == labels_indices).sum().item() # 예측과 정답이 같으면 correct 증가\n",
    "        total_samples += label.size(0)\n",
    "    \n",
    "        \n",
    "    train_loss /= len(train_loader) \n",
    "    train_accuracy = correct / total_samples\n",
    "    wandb.log({\"train_loss\": train_loss, \"train_accuracy\":train_accuracy})\n",
    "    return train_loss, train_accuracy"
   ]
  },
  {
   "cell_type": "code",
   "execution_count": 9,
   "metadata": {},
   "outputs": [],
   "source": [
    "def val(model, test_loader, epoch): \n",
    "    model.eval()\n",
    "    sum_of_rmap = 0.0\n",
    "    test_loss = 0\n",
    "    correct = 0\n",
    "    total_samples = 0\n",
    "    count = 1.0\n",
    "    with torch.no_grad():\n",
    "        for image, label, img_name in test_loader:\n",
    "            image = image.to(DEVICE) # 이미지\n",
    "            label= label.to(DEVICE) # 라벨\n",
    "\n",
    "            output = model(image) # 모델에 이미지 넣었을 때 결과(즉, 예측값)\n",
    "\n",
    "            labels_indices = torch.argmax(label, dim=1) # 손실함수 계산을 위해 원-핫 벡터에서 클래스 인덱스로 변환 \n",
    "            loss = criterion(output, label) # 손실 계산\n",
    "            test_loss += loss.item()\n",
    "\n",
    "            predicted_labels = torch.argmax(output, dim=1) # mAP, correct 계산 위해 모델의 예측 클래스 인덱스로 변환\n",
    "\n",
    "            one_hot_encoding = torch.zeros_like(output) \n",
    "            one_hot_encoding.scatter_(1, predicted_labels.view(-1, 1), 1) # mAP 계산 위해 output을 원-핫 인코딩4\n",
    "\n",
    "            correct += (predicted_labels == labels_indices).sum().item() # 예측값 정답이 같으면 correct 증가\n",
    "            total_samples += label.size(0)\n",
    "            count += 1.0 # count 증가\n",
    "            rmap = tf.retrieval_average_precision(one_hot_encoding, label) # mAP 계산\n",
    "            sum_of_rmap = sum_of_rmap+float(rmap) # 반복에 대한 mAP 값을 누적\n",
    "\n",
    "    test_loss /= len(test_loader) \n",
    "    test_accuracy = correct / total_samples\n",
    "    wandb.log({\"val loss\": test_loss, \"val accuracy\":test_accuracy, \"mAP\":float(sum_of_rmap)/float(count)},step=epoch)\n",
    "    return test_loss, test_accuracy, float(sum_of_rmap)/float(count)"
   ]
  },
  {
   "cell_type": "code",
   "execution_count": 10,
   "metadata": {},
   "outputs": [],
   "source": [
    "def test(model, test_loader): \n",
    "    \n",
    "    sum_of_rmap = 0.0\n",
    "    \n",
    "    count = 1.0\n",
    "    model.eval()\n",
    "    test_loss = 0\n",
    "    correct = 0\n",
    "    total_samples = 0\n",
    "\n",
    "    with torch.no_grad():\n",
    "        for image, label, img_name in test_loader:\n",
    "            image = image.to(DEVICE) # 이미지\n",
    "            label= label.to(DEVICE) # 라벨\n",
    "            print(label.shape)\n",
    "\n",
    "            output = model(image) # 모델에 이미지 넣었을 때 결과(즉, 예측값)\n",
    "\n",
    "            labels_indices = torch.argmax(label, dim=1) # 손실함수 계산을 위해 원-핫 벡터에서 클래스 인덱스로 변환 \n",
    "            loss = criterion(output, label) # 손실 계산\n",
    "            test_loss += loss.item()\n",
    "\n",
    "            predicted_labels = torch.argmax(output, dim=1) # mAP, correct 계산 위해 모델의 예측 클래스 인덱스로 변환\n",
    "\n",
    "            one_hot_encoding = torch.zeros_like(output) \n",
    "            one_hot_encoding.scatter_(1, predicted_labels.view(-1, 1), 1) # mAP 계산 위해 output을 원-핫 인코딩4\n",
    "\n",
    "            correct += (predicted_labels == labels_indices).sum().item() # 예측값 정답이 같으면 correct 증가\n",
    "            total_samples += label.size(0)\n",
    "\n",
    "            rmap = tf.retrieval_average_precision(one_hot_encoding, label) # mAP 계산\n",
    "            sum_of_rmap = sum_of_rmap+float(rmap) # 반복에 대한 mAP 값을 누적\n",
    "            wandb.log({\"total mAP\": float(sum_of_rmap)/float(count)})\n",
    "            count += 1.0\n",
    "            \n",
    "    test_loss /= len(test_loader) \n",
    "    test_accuracy = correct / total_samples\n",
    "    wandb.log({\"test loss\": test_loss, \"test accuracy\":test_accuracy})\n",
    "    \n",
    "    return test_loss, test_accuracy, float(sum_of_rmap)/float(count)"
   ]
  },
  {
   "cell_type": "code",
   "execution_count": 11,
   "metadata": {},
   "outputs": [
    {
     "name": "stdout",
     "output_type": "stream",
     "text": [
      "\n",
      "[EPOCH: 1] Train Loss: 1.6135, Train Accuracy: 0.22 \n",
      "           Val Loss: 1.6039, Val Accuracy: 0.22  \n",
      "\n",
      "rmap: 0.20982123538851738\n",
      "\n",
      "[EPOCH: 2] Train Loss: 1.5881, Train Accuracy: 0.31 \n",
      "           Val Loss: 1.5820, Val Accuracy: 0.33  \n",
      "\n",
      "rmap: 0.2787811476737261\n",
      "\n",
      "[EPOCH: 3] Train Loss: 1.5695, Train Accuracy: 0.32 \n",
      "           Val Loss: 1.5636, Val Accuracy: 0.26  \n",
      "\n",
      "rmap: 0.24839428812265396\n",
      "\n",
      "[EPOCH: 4] Train Loss: 1.5495, Train Accuracy: 0.33 \n",
      "           Val Loss: 1.5436, Val Accuracy: 0.31  \n",
      "\n",
      "rmap: 0.2863898053765297\n",
      "\n",
      "[EPOCH: 5] Train Loss: 1.5306, Train Accuracy: 0.31 \n",
      "           Val Loss: 1.5123, Val Accuracy: 0.36  \n",
      "\n",
      "rmap: 0.30496667325496674\n",
      "\n",
      "[EPOCH: 6] Train Loss: 1.5088, Train Accuracy: 0.32 \n",
      "           Val Loss: 1.4782, Val Accuracy: 0.36  \n",
      "\n",
      "rmap: 0.31586845591664314\n",
      "\n",
      "[EPOCH: 7] Train Loss: 1.4880, Train Accuracy: 0.33 \n",
      "           Val Loss: 1.4487, Val Accuracy: 0.41  \n",
      "\n",
      "rmap: 0.33932204358279705\n",
      "\n",
      "[EPOCH: 8] Train Loss: 1.4708, Train Accuracy: 0.36 \n",
      "           Val Loss: 1.4078, Val Accuracy: 0.43  \n",
      "\n",
      "rmap: 0.3534738030284643\n",
      "\n",
      "[EPOCH: 9] Train Loss: 1.4404, Train Accuracy: 0.38 \n",
      "           Val Loss: 1.3547, Val Accuracy: 0.47  \n",
      "\n",
      "rmap: 0.3882806897163391\n",
      "\n",
      "[EPOCH: 10] Train Loss: 1.3924, Train Accuracy: 0.44 \n",
      "           Val Loss: 1.3164, Val Accuracy: 0.52  \n",
      "\n",
      "rmap: 0.42361379973590374\n",
      "\n",
      "[EPOCH: 11] Train Loss: 1.3806, Train Accuracy: 0.46 \n",
      "           Val Loss: 1.2644, Val Accuracy: 0.57  \n",
      "\n",
      "rmap: 0.4651194103062153\n",
      "\n",
      "[EPOCH: 12] Train Loss: 1.3740, Train Accuracy: 0.46 \n",
      "           Val Loss: 1.2069, Val Accuracy: 0.60  \n",
      "\n",
      "rmap: 0.4810292720794678\n",
      "\n",
      "[EPOCH: 13] Train Loss: 1.3402, Train Accuracy: 0.48 \n",
      "           Val Loss: 1.1619, Val Accuracy: 0.62  \n",
      "\n",
      "rmap: 0.4940912015736103\n",
      "\n",
      "[EPOCH: 14] Train Loss: 1.2798, Train Accuracy: 0.52 \n",
      "           Val Loss: 1.0953, Val Accuracy: 0.63  \n",
      "\n",
      "rmap: 0.49849409610033035\n",
      "\n",
      "[EPOCH: 15] Train Loss: 1.2583, Train Accuracy: 0.53 \n",
      "           Val Loss: 1.0561, Val Accuracy: 0.69  \n",
      "\n",
      "rmap: 0.5446240305900574\n",
      "\n",
      "[EPOCH: 16] Train Loss: 1.2385, Train Accuracy: 0.55 \n",
      "           Val Loss: 1.0119, Val Accuracy: 0.65  \n",
      "\n",
      "rmap: 0.5264596119523048\n",
      "\n",
      "[EPOCH: 17] Train Loss: 1.3180, Train Accuracy: 0.49 \n",
      "           Val Loss: 0.9980, Val Accuracy: 0.68  \n",
      "\n",
      "rmap: 0.5443194359540939\n",
      "\n",
      "[EPOCH: 18] Train Loss: 1.1990, Train Accuracy: 0.59 \n",
      "           Val Loss: 0.9633, Val Accuracy: 0.70  \n",
      "\n",
      "rmap: 0.551870658993721\n",
      "\n",
      "[EPOCH: 19] Train Loss: 1.1725, Train Accuracy: 0.56 \n",
      "           Val Loss: 0.9262, Val Accuracy: 0.73  \n",
      "\n",
      "rmap: 0.5828597769141197\n",
      "\n",
      "[EPOCH: 20] Train Loss: 1.1874, Train Accuracy: 0.55 \n",
      "           Val Loss: 0.8976, Val Accuracy: 0.70  \n",
      "\n",
      "rmap: 0.5658365041017532\n",
      "\n",
      "[EPOCH: 21] Train Loss: 1.1969, Train Accuracy: 0.56 \n",
      "           Val Loss: 0.9104, Val Accuracy: 0.74  \n",
      "\n",
      "rmap: 0.5995361432433128\n",
      "\n",
      "[EPOCH: 22] Train Loss: 1.1126, Train Accuracy: 0.61 \n",
      "           Val Loss: 0.8538, Val Accuracy: 0.76  \n",
      "\n",
      "rmap: 0.6074771285057068\n",
      "\n",
      "[EPOCH: 23] Train Loss: 1.1422, Train Accuracy: 0.58 \n",
      "           Val Loss: 0.8449, Val Accuracy: 0.73  \n",
      "\n",
      "rmap: 0.5881745293736458\n",
      "\n",
      "[EPOCH: 24] Train Loss: 1.0946, Train Accuracy: 0.61 \n",
      "           Val Loss: 0.8204, Val Accuracy: 0.75  \n",
      "\n",
      "rmap: 0.6035847961902618\n",
      "\n",
      "[EPOCH: 25] Train Loss: 1.0783, Train Accuracy: 0.63 \n",
      "           Val Loss: 0.8032, Val Accuracy: 0.75  \n",
      "\n",
      "rmap: 0.6090384423732758\n",
      "\n",
      "[EPOCH: 26] Train Loss: 1.0286, Train Accuracy: 0.63 \n",
      "           Val Loss: 0.7646, Val Accuracy: 0.77  \n",
      "\n",
      "rmap: 0.6248278394341469\n",
      "\n",
      "[EPOCH: 27] Train Loss: 0.9947, Train Accuracy: 0.63 \n",
      "           Val Loss: 0.7396, Val Accuracy: 0.78  \n",
      "\n",
      "rmap: 0.6336165964603424\n",
      "\n",
      "[EPOCH: 28] Train Loss: 0.9518, Train Accuracy: 0.67 \n",
      "           Val Loss: 0.7343, Val Accuracy: 0.78  \n",
      "\n",
      "rmap: 0.6283509805798531\n",
      "\n",
      "[EPOCH: 29] Train Loss: 0.9583, Train Accuracy: 0.67 \n",
      "           Val Loss: 0.7173, Val Accuracy: 0.78  \n",
      "\n",
      "rmap: 0.6360778957605362\n",
      "\n",
      "[EPOCH: 30] Train Loss: 0.9439, Train Accuracy: 0.68 \n",
      "           Val Loss: 0.7005, Val Accuracy: 0.78  \n",
      "\n",
      "rmap: 0.6408487558364868\n"
     ]
    },
    {
     "data": {
      "application/vnd.jupyter.widget-view+json": {
       "model_id": "83a5f8a92127409b986615fbf2ddb7cf",
       "version_major": 2,
       "version_minor": 0
      },
      "text/plain": [
       "VBox(children=(Label(value='0.001 MB of 0.001 MB uploaded\\r'), FloatProgress(value=1.0, max=1.0)))"
      ]
     },
     "metadata": {},
     "output_type": "display_data"
    },
    {
     "data": {
      "text/html": [
       "<style>\n",
       "    table.wandb td:nth-child(1) { padding: 0 10px; text-align: left ; width: auto;} td:nth-child(2) {text-align: left ; width: 100%}\n",
       "    .wandb-row { display: flex; flex-direction: row; flex-wrap: wrap; justify-content: flex-start; width: 100% }\n",
       "    .wandb-col { display: flex; flex-direction: column; flex-basis: 100%; flex: 1; padding: 10px; }\n",
       "    </style>\n",
       "<div class=\"wandb-row\"><div class=\"wandb-col\"><h3>Run history:</h3><br/><table class=\"wandb\"><tr><td>mAP</td><td>▁▂▂▂▃▃▃▃▄▄▅▅▆▆▆▆▆▇▇▇▇▇▇▇▇█████</td></tr><tr><td>train_accuracy</td><td>▁▂▃▃▂▃▃▃▃▄▅▅▅▆▆▆▅▇▆▆▆▇▆▇▇▇▇███</td></tr><tr><td>train_loss</td><td>███▇▇▇▇▇▆▆▆▅▅▅▄▄▅▄▃▄▄▃▃▃▂▂▂▁▁▁</td></tr><tr><td>val accuracy</td><td>▁▂▁▂▃▃▃▄▄▅▅▆▆▆▇▆▇▇▇▇▇█▇███████</td></tr><tr><td>val loss</td><td>████▇▇▇▆▆▆▅▅▅▄▄▃▃▃▃▃▃▂▂▂▂▁▁▁▁▁</td></tr></table><br/></div><div class=\"wandb-col\"><h3>Run summary:</h3><br/><table class=\"wandb\"><tr><td>mAP</td><td>0.64085</td></tr><tr><td>train_accuracy</td><td>0.68093</td></tr><tr><td>train_loss</td><td>0.94389</td></tr><tr><td>val accuracy</td><td>0.78037</td></tr><tr><td>val loss</td><td>0.7005</td></tr></table><br/></div></div>"
      ],
      "text/plain": [
       "<IPython.core.display.HTML object>"
      ]
     },
     "metadata": {},
     "output_type": "display_data"
    },
    {
     "data": {
      "text/html": [
       " View run <strong style=\"color:#cdcd00\">seorang_resnet</strong> at: <a href='https://wandb.ai/uos_seorang/temp/runs/7t8ylwix' target=\"_blank\">https://wandb.ai/uos_seorang/temp/runs/7t8ylwix</a><br/>Synced 5 W&B file(s), 0 media file(s), 0 artifact file(s) and 0 other file(s)"
      ],
      "text/plain": [
       "<IPython.core.display.HTML object>"
      ]
     },
     "metadata": {},
     "output_type": "display_data"
    },
    {
     "data": {
      "text/html": [
       "Find logs at: <code>.\\wandb\\run-20231211_183730-7t8ylwix\\logs</code>"
      ],
      "text/plain": [
       "<IPython.core.display.HTML object>"
      ]
     },
     "metadata": {},
     "output_type": "display_data"
    }
   ],
   "source": [
    "sum_of_rmap = 0.0\n",
    "\n",
    "for epoch in range(1, param_dict['epochs'] + 1): # 에폭만큼 반복하며 학습\n",
    "    train_loss, train_accuracy = train(model, train_loader, optimizer)\n",
    "    valid_loss, valid_accuracy, rmap = val(model, val_loader, epoch)\n",
    "\n",
    "    print(\"\\n[EPOCH: {}] Train Loss: {:.4f}, Train Accuracy: {:.2f} \\n\"\n",
    "          \"           Val Loss: {:.4f}, Val Accuracy: {:.2f}  \\n\".format(\n",
    "        epoch, train_loss, train_accuracy, valid_loss, valid_accuracy))\n",
    "    print(\"rmap:\", rmap)\n",
    "    \n",
    "torch.save(model.state_dict(), 'model_weights.pth')\n",
    "end_time = time.time()\n",
    "wandb.finish()"
   ]
  },
  {
   "cell_type": "code",
   "execution_count": 12,
   "metadata": {},
   "outputs": [
    {
     "data": {
      "application/vnd.jupyter.widget-view+json": {
       "model_id": "293c003339134397824a63c2ee16d850",
       "version_major": 2,
       "version_minor": 0
      },
      "text/plain": [
       "VBox(children=(Label(value='Waiting for wandb.init()...\\r'), FloatProgress(value=0.01128888888957186, max=1.0)…"
      ]
     },
     "metadata": {},
     "output_type": "display_data"
    },
    {
     "data": {
      "text/html": [
       "Tracking run with wandb version 0.16.1"
      ],
      "text/plain": [
       "<IPython.core.display.HTML object>"
      ]
     },
     "metadata": {},
     "output_type": "display_data"
    },
    {
     "data": {
      "text/html": [
       "Run data is saved locally in <code>c:\\Users\\ksrks\\OneDrive - UOS\\문서 - 인공지능 프로젝트\\MultiClassCNN_kym\\wandb\\run-20231211_184426-6tg6xq53</code>"
      ],
      "text/plain": [
       "<IPython.core.display.HTML object>"
      ]
     },
     "metadata": {},
     "output_type": "display_data"
    },
    {
     "data": {
      "text/html": [
       "Syncing run <strong><a href='https://wandb.ai/uos_seorang/temp-test/runs/6tg6xq53' target=\"_blank\">seorang_resnet</a></strong> to <a href='https://wandb.ai/uos_seorang/temp-test' target=\"_blank\">Weights & Biases</a> (<a href='https://wandb.me/run' target=\"_blank\">docs</a>)<br/>"
      ],
      "text/plain": [
       "<IPython.core.display.HTML object>"
      ]
     },
     "metadata": {},
     "output_type": "display_data"
    },
    {
     "data": {
      "text/html": [
       " View project at <a href='https://wandb.ai/uos_seorang/temp-test' target=\"_blank\">https://wandb.ai/uos_seorang/temp-test</a>"
      ],
      "text/plain": [
       "<IPython.core.display.HTML object>"
      ]
     },
     "metadata": {},
     "output_type": "display_data"
    },
    {
     "data": {
      "text/html": [
       " View run at <a href='https://wandb.ai/uos_seorang/temp-test/runs/6tg6xq53' target=\"_blank\">https://wandb.ai/uos_seorang/temp-test/runs/6tg6xq53</a>"
      ],
      "text/plain": [
       "<IPython.core.display.HTML object>"
      ]
     },
     "metadata": {},
     "output_type": "display_data"
    },
    {
     "name": "stdout",
     "output_type": "stream",
     "text": [
      "torch.Size([32, 5])\n",
      "torch.Size([32, 5])\n",
      "torch.Size([32, 5])\n",
      "torch.Size([32, 5])\n",
      "torch.Size([32, 5])\n",
      "torch.Size([32, 5])\n",
      "torch.Size([32, 5])\n",
      "torch.Size([32, 5])\n",
      "torch.Size([32, 5])\n",
      "torch.Size([32, 5])\n",
      "torch.Size([13, 5])\n"
     ]
    }
   ],
   "source": [
    "wandb.init(project='temp-test',name='seorang_resnet')\n",
    "wandb.run.save()\n",
    "wandb.config.update(param_dict)\n",
    "sum_of_rmap = 0.0\n",
    "\n",
    "model.load_state_dict(torch.load('model_weights.pth'))\n",
    "model.to(DEVICE) \n",
    "test_loss, test_accuracy, rmap = test(model, test_loader)\n"
   ]
  },
  {
   "cell_type": "code",
   "execution_count": null,
   "metadata": {},
   "outputs": [],
   "source": [
    "'''\n",
    "참고 문헌\n",
    "\n",
    "[1]https://github.com/Justin-A/DeepLearning101\n",
    "'''"
   ]
  }
 ],
 "metadata": {
  "kernelspec": {
   "display_name": "Python 3 (ipykernel)",
   "language": "python",
   "name": "python3"
  },
  "language_info": {
   "codemirror_mode": {
    "name": "ipython",
    "version": 3
   },
   "file_extension": ".py",
   "mimetype": "text/x-python",
   "name": "python",
   "nbconvert_exporter": "python",
   "pygments_lexer": "ipython3",
   "version": "3.8.18"
  }
 },
 "nbformat": 4,
 "nbformat_minor": 2
}
